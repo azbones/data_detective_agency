{
 "cells": [
  {
   "cell_type": "markdown",
   "metadata": {
    "slideshow": {
     "slide_type": "slide"
    }
   },
   "source": [
    "# Solve the Case\n",
    "\n",
    "**The Case**: This case will test your ability to analyze data without context. It will require you to do research outside the dataset in order to arrive at a probable conclusion. Specifically, you will:\n",
    "  \n",
    "* Read the Data Science Detective Agency story that is in the ```README.md``` file in this repository\n",
    "* Go through the [Python visualization notebook](Python_Visualization_Basics.ipynb) if you need to learn more about visualizations using Python\n",
    "* Take the job and start working on the case\n",
    "* Use only Python and a text editor (try [Sublime Text](https://www.sublimetext.com/) if you don't have one) for your analysis tools (no Excel)\n",
    "* Conduct research on the Internet as required\n",
    "* Develop a hypothesis to solve the case\n",
    "\n",
    "\n",
    "\n",
    "These instructions are designed to allow you to explore Python and **DO NOT** include step-by-step directions or answers that have only one possibility. "
   ]
  },
  {
   "cell_type": "markdown",
   "metadata": {
    "slideshow": {
     "slide_type": "slide"
    }
   },
   "source": [
    "# General Data Science Steps\n",
    "\n",
    "This case, while small, accurately represents the process you go through on most data science projects. You will have to:\n",
    "\n",
    "* Learn about and research the data:\n",
    "    * What data elements do you have?\n",
    "    * What do they represent?\n",
    "* Clean the data:\n",
    "    * What do you have to do to the data to make it usable in your analysis tool?  \n"
   ]
  },
  {
   "cell_type": "markdown",
   "metadata": {
    "slideshow": {
     "slide_type": "slide"
    }
   },
   "source": [
    "* Visualize the data:\n",
    "    * What is the distribution of the variables?\n",
    "    * What trends are in the data?\n",
    "    * How are variables related to each other?\n",
    "    * What range do the variables represent in values and time?\n",
    "* Develop some hypotheses about the data:\n",
    "    * What does the data tell you?\n",
    "    * What does it model or represent in the real world?"
   ]
  },
  {
   "cell_type": "markdown",
   "metadata": {
    "slideshow": {
     "slide_type": "slide"
    }
   },
   "source": [
    "This general process and the iterative nature of it matches the [CRISP-DM](https://www.datascience-pm.com/crisp-dm-2/) process model.\n",
    "    \n",
    "<img src=\"images/crisp.png\"/>\n",
    "    "
   ]
  },
  {
   "cell_type": "markdown",
   "metadata": {
    "slideshow": {
     "slide_type": "slide"
    }
   },
   "source": [
    "## Detectives Notebook\n",
    "\n",
    "Use this notebook to conduct your analysis, develp visualizations, link to relevant sources, and provide commentary on the case. Note that they issues with the data are primarily at the beginning and end of the file."
   ]
  },
  {
   "cell_type": "code",
   "execution_count": null,
   "metadata": {
    "slideshow": {
     "slide_type": "fragment"
    }
   },
   "outputs": [],
   "source": [
    "# Use this cell to import your properly formatted data file \n",
    "# Column headers and data only- look at the whole file!\n",
    "\n",
    "import pandas as pd\n",
    "\n",
    "df = pd.read_csv('datasets/some_file_name', index_col=None)"
   ]
  },
  {
   "cell_type": "code",
   "execution_count": null,
   "metadata": {
    "slideshow": {
     "slide_type": "slide"
    }
   },
   "outputs": [],
   "source": [
    "# Explore data\n",
    "\n",
    "df"
   ]
  },
  {
   "cell_type": "code",
   "execution_count": null,
   "metadata": {
    "slideshow": {
     "slide_type": "slide"
    }
   },
   "outputs": [],
   "source": [
    "import matplotlib as mpl\n",
    "from matplotlib import pyplot as plt\n",
    "%matplotlib inline\n",
    "mpl.rcParams['figure.figsize'] = (10.0, 10.0)"
   ]
  },
  {
   "cell_type": "code",
   "execution_count": null,
   "metadata": {
    "slideshow": {
     "slide_type": "fragment"
    }
   },
   "outputs": [],
   "source": [
    "# Use this cell to plot things\n",
    "\n",
    "plt.plot(df['some_column'])\n"
   ]
  },
  {
   "cell_type": "code",
   "execution_count": null,
   "metadata": {
    "slideshow": {
     "slide_type": "fragment"
    }
   },
   "outputs": [],
   "source": [
    "# Use this cell to plot other things\n",
    "\n",
    "plt.plot(df['some_other_column'])"
   ]
  }
 ],
 "metadata": {
  "kernelspec": {
   "display_name": "Python 3",
   "language": "python",
   "name": "python3"
  },
  "language_info": {
   "codemirror_mode": {
    "name": "ipython",
    "version": 3
   },
   "file_extension": ".py",
   "mimetype": "text/x-python",
   "name": "python",
   "nbconvert_exporter": "python",
   "pygments_lexer": "ipython3",
   "version": "3.8.8"
  }
 },
 "nbformat": 4,
 "nbformat_minor": 1
}
